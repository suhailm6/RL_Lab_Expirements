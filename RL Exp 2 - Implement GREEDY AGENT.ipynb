{
 "cells": [
  {
   "cell_type": "code",
   "execution_count": 1,
   "id": "d02d33b7-6cef-4138-96b7-4c513f39e5b5",
   "metadata": {},
   "outputs": [
    {
     "name": "stdout",
     "output_type": "stream",
     "text": [
      "\n",
      "------- Final Results ------\n",
      "True Reward Probabilities:  [0.3, 0.5, 0.7, 0.9]\n",
      "Estimated Reward Probabilities:  [0.   0.67 0.   0.9 ]\n",
      "Number of times each arm was selected: [  1.   3.   1. 145.]\n",
      "Total Reward Earned:  132\n"
     ]
    }
   ],
   "source": [
    "import numpy as np\n",
    "import matplotlib.pyplot as plt\n",
    "\n",
    "n_arms = 4\n",
    "true_rewards = [0.3 , 0.5 , 0.7 , 0.9 ]\n",
    "n_steps = 150\n",
    "reward_sums = np.zeros(n_arms)\n",
    "counts = np.zeros(n_arms)\n",
    "estimated_rewards = np.zeros(n_arms)\n",
    "reward_history = []\n",
    "cumulatives_reward = []\n",
    "for arm in range(n_arms):\n",
    "    reward = int(np.random.rand() < true_rewards[arm])\n",
    "    reward_sums[arm] += reward\n",
    "    counts[arm] += 1\n",
    "    estimated_rewards[arm] = reward_sums[arm] / counts[arm]\n",
    "    reward_history.append(reward)\n",
    "    cumulatives_reward.append(sum(reward_history))\n",
    "for step in range(n_arms, n_steps):\n",
    "    arm = np.argmax(estimated_rewards)\n",
    "    reward = int(np.random.rand() < true_rewards[arm])\n",
    "    reward_sums[arm] += reward\n",
    "    counts[arm] += 1\n",
    "    estimated_rewards[arm] = reward_sums[arm] / counts[arm]\n",
    "    reward_history.append(reward)\n",
    "    cumulatives_reward.append(cumulatives_reward[-1] + reward)\n",
    "print(\"\\n------- Final Results ------\")\n",
    "print(\"True Reward Probabilities: \", true_rewards)\n",
    "print(\"Estimated Reward Probabilities: \", np.round(estimated_rewards, 2))\n",
    "print(\"Number of times each arm was selected:\", counts)\n",
    "print(\"Total Reward Earned: \", int(sum(reward_history)))"
   ]
  },
  {
   "cell_type": "code",
   "execution_count": null,
   "id": "a93c1c5e-2acf-4afd-8217-093c8f847b7d",
   "metadata": {},
   "outputs": [],
   "source": []
  }
 ],
 "metadata": {
  "kernelspec": {
   "display_name": "Python 3 (ipykernel)",
   "language": "python",
   "name": "python3"
  },
  "language_info": {
   "codemirror_mode": {
    "name": "ipython",
    "version": 3
   },
   "file_extension": ".py",
   "mimetype": "text/x-python",
   "name": "python",
   "nbconvert_exporter": "python",
   "pygments_lexer": "ipython3",
   "version": "3.13.5"
  }
 },
 "nbformat": 4,
 "nbformat_minor": 5
}
