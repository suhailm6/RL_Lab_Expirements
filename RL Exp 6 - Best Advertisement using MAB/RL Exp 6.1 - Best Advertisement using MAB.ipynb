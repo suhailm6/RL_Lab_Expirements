{
 "cells": [
  {
   "cell_type": "code",
   "execution_count": 1,
   "id": "4b7aefe1-342d-40df-a59a-45b00f1c34b4",
   "metadata": {},
   "outputs": [
    {
     "ename": "SyntaxError",
     "evalue": "invalid syntax (1732866921.py, line 21)",
     "output_type": "error",
     "traceback": [
      "  \u001b[36mCell\u001b[39m\u001b[36m \u001b[39m\u001b[32mIn[1]\u001b[39m\u001b[32m, line 21\u001b[39m\n\u001b[31m    \u001b[39m\u001b[31melse:\u001b[39m\n    ^\n\u001b[31mSyntaxError\u001b[39m\u001b[31m:\u001b[39m invalid syntax\n"
     ]
    }
   ],
   "source": [
    "import numpy as np\n",
    "import pandas as pd\n",
    "dataset = pd.read_csv('Ads_CTR_Optimisation.csv')\n",
    "N = 10\n",
    "d = 10000\n",
    "epsilon = 0.2\n",
    "numbers_of_selections = [0] * N\n",
    "sums_of_rewards = [0] * N\n",
    "ads_selected = []\n",
    "total_reward = 0\n",
    "\n",
    "for n in range(0, d):\n",
    "    ad = 0\n",
    "    max_upper_bound = 0\n",
    "    if np.random.rand() < epsilon:\n",
    "        ad = np.random.randint(N)\n",
    "    else:\n",
    "        for i in range(0, N):\n",
    "            if numbers_of_selections[i] > 0:\n",
    "                average_reward = sums_of_rewards[i] / numbers_of_selections[i]\n",
    "    else:\n",
    "        average_reward = 1e400\n",
    "    if average_reward > max_upper_bound:\n",
    "    max_upper_bound = average_reward\n",
    "    ad = i\n",
    "    ads_selected.append(ad)\n",
    "    numbers_of_selections[ad] += 1\n",
    "    reward = dataset.values[n, ad]\n",
    "    sums_of_rewards[ad] += reward\n",
    "    total_reward += reward\n",
    "\n",
    "\n",
    "best_ad = np.argmax(sums_of_rewards)\n",
    "print(f\"The best ad is: {best_ad}\")\n",
    "print(f\"Total reward: {total_reward}\")"
   ]
  },
  {
   "cell_type": "code",
   "execution_count": null,
   "id": "c8298cbd-ed35-40a2-8201-d5f58bc3f466",
   "metadata": {},
   "outputs": [],
   "source": []
  }
 ],
 "metadata": {
  "kernelspec": {
   "display_name": "Python 3 (ipykernel)",
   "language": "python",
   "name": "python3"
  },
  "language_info": {
   "codemirror_mode": {
    "name": "ipython",
    "version": 3
   },
   "file_extension": ".py",
   "mimetype": "text/x-python",
   "name": "python",
   "nbconvert_exporter": "python",
   "pygments_lexer": "ipython3",
   "version": "3.13.5"
  }
 },
 "nbformat": 4,
 "nbformat_minor": 5
}
